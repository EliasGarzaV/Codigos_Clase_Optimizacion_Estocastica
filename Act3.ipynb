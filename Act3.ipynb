{
 "cells": [
  {
   "cell_type": "code",
   "execution_count": 1,
   "metadata": {},
   "outputs": [],
   "source": [
    "import numpy as np\n",
    "import scipy as sp\n",
    "\n"
   ]
  },
  {
   "cell_type": "code",
   "execution_count": 4,
   "metadata": {},
   "outputs": [],
   "source": [
    "s = 1 / 6\n",
    "A=np.array([[0, s, s, s, s, s, s], [s, 0, s, s, s, s, s], [s, s, 0, s, s, s, s], [s, s, s, 0, s, s, s], [s, s, s, s, 0, s, s], [s, s, s, s, s, 0, s], [s, s, s, s, s, s, 0]])\n"
   ]
  },
  {
   "cell_type": "code",
   "execution_count": 6,
   "metadata": {},
   "outputs": [],
   "source": [
    "vals, vecs = np.linalg.eig(A)"
   ]
  },
  {
   "cell_type": "code",
   "execution_count": 11,
   "metadata": {},
   "outputs": [
    {
     "data": {
      "text/plain": [
       "(1.0000000000000002,\n",
       " array([ 0.15430335,  0.37796447,  0.81645035,  0.36138898, -0.12289016,\n",
       "         0.06403415,  0.1129095 ]))"
      ]
     },
     "execution_count": 11,
     "metadata": {},
     "output_type": "execute_result"
    }
   ],
   "source": [
    "vals[1], vecs[1]"
   ]
  },
  {
   "cell_type": "code",
   "execution_count": 12,
   "metadata": {},
   "outputs": [
    {
     "data": {
      "text/plain": [
       "1.7641606355303667"
      ]
     },
     "execution_count": 12,
     "metadata": {},
     "output_type": "execute_result"
    }
   ],
   "source": [
    "sum(vecs[1])"
   ]
  },
  {
   "cell_type": "code",
   "execution_count": 14,
   "metadata": {},
   "outputs": [
    {
     "name": "stdout",
     "output_type": "stream",
     "text": [
      "Diag:\n",
      "[[0.95 0.05]\n",
      " [0.95 0.05]]\n"
     ]
    }
   ],
   "source": [
    "import numpy as np\n",
    "def diagonalization(A):\n",
    "    vals, vec_mat = np.linalg.eig(A)\n",
    "    return vec_mat, np.diag(vals), np.linalg.inv(vec_mat)\n",
    "\n",
    "A = np.array([[0.95, 0.05], [0.95, 0.05]])\n",
    "Q, D, Q_inv = diagonalization(A)\n",
    "\n",
    "print('Diag:')\n",
    "print(np.linalg.multi_dot([Q, D, Q_inv]))"
   ]
  },
  {
   "cell_type": "code",
   "execution_count": null,
   "metadata": {},
   "outputs": [],
   "source": [
    "print()"
   ]
  },
  {
   "cell_type": "code",
   "execution_count": 16,
   "metadata": {},
   "outputs": [
    {
     "data": {
      "text/plain": [
       "(array([[ 0.70710678, -0.05255883],\n",
       "        [ 0.70710678,  0.99861783]]),\n",
       " array([[1., 0.],\n",
       "        [0., 0.]]),\n",
       " array([[ 1.34350288,  0.07071068],\n",
       "        [-0.95131488,  0.95131488]]))"
      ]
     },
     "execution_count": 16,
     "metadata": {},
     "output_type": "execute_result"
    }
   ],
   "source": [
    "Q, D, Q_inv\n",
    "\n"
   ]
  },
  {
   "cell_type": "code",
   "execution_count": 17,
   "metadata": {},
   "outputs": [
    {
     "data": {
      "text/plain": [
       "(array([1., 0.]),\n",
       " array([[ 0.70710678, -0.05255883],\n",
       "        [ 0.70710678,  0.99861783]]))"
      ]
     },
     "execution_count": 17,
     "metadata": {},
     "output_type": "execute_result"
    }
   ],
   "source": [
    "np.linalg.eig(A)"
   ]
  },
  {
   "cell_type": "code",
   "execution_count": 19,
   "metadata": {},
   "outputs": [
    {
     "name": "stdout",
     "output_type": "stream",
     "text": [
      "Diag:\n",
      "[[342. 682.]\n",
      " [341. 683.]]\n",
      "[[342 682]\n",
      " [341 683]]\n"
     ]
    }
   ],
   "source": [
    "import numpy as np\n",
    "from scipy.linalg import fractional_matrix_power\n",
    "def exp_matrix(A, n):\n",
    "    if(int(n) == n):\n",
    "        return np.linalg.matrix_power(A, n)\n",
    "    else:\n",
    "        return fractional_matrix_power(A, n)\n",
    "\n",
    "\n",
    "def diagonalization(A):\n",
    "    vals, vec_mat = np.linalg.eig(A)\n",
    "    return vec_mat, np.diag(vals), np.linalg.inv(vec_mat)\n",
    "\n",
    "A = np.array([[2, 2], [1, 3]])\n",
    "Q, D, Q_inv = diagonalization(A)\n",
    "\n",
    "print('Diag:')\n",
    "print(np.linalg.multi_dot([Q, exp_matrix(D, 5), Q_inv]))\n",
    "print(exp_matrix(A, 5))"
   ]
  },
  {
   "cell_type": "code",
   "execution_count": 28,
   "metadata": {},
   "outputs": [
    {
     "data": {
      "text/plain": [
       "[<matplotlib.lines.Line2D at 0x285c6494520>]"
      ]
     },
     "execution_count": 28,
     "metadata": {},
     "output_type": "execute_result"
    },
    {
     "data": {
      "image/png": "[encoded data removed]",
      "text/plain": [
       "<Figure size 432x288 with 1 Axes>"
      ]
     },
     "metadata": {
      "needs_background": "light"
     },
     "output_type": "display_data"
    }
   ],
   "source": [
    "cases = []\n",
    "for i in range(1000):\n",
    "    choice1 = np.random.random()\n",
    "    if(choice1 < 0.5):\n",
    "        cases.append(120000)\n",
    "    else:\n",
    "        result = -180000\n",
    "        exito = np.random.random()\n",
    "        if(exito < 0.5):\n",
    "            com_si_mismo = np.random.random()\n",
    "            if(com_si_mismo < 0.5):\n",
    "                gan = np.random.random()\n",
    "                if(gan < 0.3):\n",
    "                    result += 30000\n",
    "                elif(gan < 0.8):\n",
    "                    result += 150000\n",
    "                else:\n",
    "                    result += 450000\n",
    "            else:\n",
    "                ganancia = np.random.random()\n",
    "                if(ganancia < 0.4):\n",
    "                    result += 240000\n",
    "                else:\n",
    "                    result += 135000\n",
    "        cases.append(result)\n",
    "        \n",
    "import matplotlib.pyplot as plt\n",
    "\n",
    "avg_cases = [sum(cases[:i])/i for i in range(1, len(cases))]\n",
    "plt.plot( avg_cases)\n",
    "\n"
   ]
  },
  {
   "cell_type": "code",
   "execution_count": 29,
   "metadata": {},
   "outputs": [
    {
     "data": {
      "text/plain": [
       "19819.81981981982"
      ]
     },
     "execution_count": 29,
     "metadata": {},
     "output_type": "execute_result"
    }
   ],
   "source": [
    "avg_cases[-1]\n"
   ]
  },
  {
   "cell_type": "code",
   "execution_count": 27,
   "metadata": {},
   "outputs": [
    {
     "data": {
      "text/plain": [
       "[<matplotlib.lines.Line2D at 0x285c6394e20>]"
      ]
     },
     "execution_count": 27,
     "metadata": {},
     "output_type": "execute_result"
    },
    {
     "data": {
      "image/png": "[encoded data removed]",
      "text/plain": [
       "<Figure size 432x288 with 1 Axes>"
      ]
     },
     "metadata": {
      "needs_background": "light"
     },
     "output_type": "display_data"
    }
   ],
   "source": [
    "\n",
    "\n",
    "plt.plot( avg_cases)\n"
   ]
  },
  {
   "cell_type": "code",
   "execution_count": 22,
   "metadata": {},
   "outputs": [
    {
     "name": "stdout",
     "output_type": "stream",
     "text": [
      "Q = \n",
      "[[-0.5773503 -0.6132109 -0.1052104]\n",
      " [-0.5773503  0.3283952 -0.6876058]\n",
      " [-0.5773503  0.7184212  0.7184212]]\n",
      "\n",
      "D = \n",
      "[[ 1.0000000  0.0000000  0.0000000]\n",
      " [ 0.0000000 -0.8535534  0.0000000]\n",
      " [ 0.0000000  0.0000000 -0.1464466]]\n",
      "\n",
      "Q^-1 = \n",
      "[[-0.8150827 -0.4075414 -0.5094267]\n",
      " [-0.9064867  0.5310076  0.3754791]\n",
      " [ 0.2514556 -0.8585232  0.6070676]]\n"
     ]
    }
   ],
   "source": [
    "import numpy as np\n",
    "np.set_printoptions(precision=7, sign=' ', floatmode='fixed')\n",
    "\n",
    "def diagonalization(A):\n",
    "    vals, vec_mat = np.linalg.eig(A)\n",
    "    return vec_mat, np.diag(vals), np.linalg.inv(vec_mat)\n",
    "\n",
    "A = np.array([[0, 1/2, 1/2], [3/4, 0, 1/4], [1, 0, 0]])\n",
    "Q, D, Q_inv = diagonalization(A)\n",
    "\n",
    "print('Q = ')\n",
    "print(Q, end='\\n\\n')\n",
    "\n",
    "print('D = ')\n",
    "print(D, end = '\\n\\n')\n",
    "\n",
    "print('Q^-1 = ')\n",
    "print(Q_inv)\n"
   ]
  },
  {
   "cell_type": "code",
   "execution_count": 26,
   "metadata": {},
   "outputs": [
    {
     "name": "stdout",
     "output_type": "stream",
     "text": [
      "Usando diagonalización\n",
      "[[ 0.5846863  0.1684570  0.2468567]\n",
      " [ 0.4094849  0.2710876  0.3194275]\n",
      " [ 0.3369141  0.3135986  0.3494873]]\n",
      "\n",
      "Sin usar diagonalización\n",
      "[[ 0.5846863  0.1684570  0.2468567]\n",
      " [ 0.4094849  0.2710876  0.3194275]\n",
      " [ 0.3369141  0.3135986  0.3494873]]\n"
     ]
    }
   ],
   "source": [
    "import numpy as np\n",
    "from scipy.linalg import fractional_matrix_power\n",
    "\n",
    "def exp_matrix(A, n):\n",
    "    if(int(n) == n):\n",
    "        return np.linalg.matrix_power(A, n)\n",
    "    else:\n",
    "        return fractional_matrix_power(A, n)\n",
    "    \n",
    "def diagonalization(A):\n",
    "    vals, vec_mat = np.linalg.eig(A)\n",
    "    return vec_mat, np.diag(vals), np.linalg.inv(vec_mat)\n",
    "\n",
    "A = np.array([[0, 1/2, 1/2], [3/4, 0, 1/4], [1, 0, 0]])\n",
    "Q, D, Q_inv = diagonalization(A)\n",
    "\n",
    "print('Usando diagonalización')\n",
    "print(np.linalg.multi_dot([Q, exp_matrix(D,10), Q_inv]), end='\\n\\n')\n",
    "\n",
    "print('Sin usar diagonalización')\n",
    "print(exp_matrix(A, 10))\n"
   ]
  }
 ],
 "metadata": {
  "kernelspec": {
   "display_name": "Python 3.9.7 ('base')",
   "language": "python",
   "name": "python3"
  },
  "language_info": {
   "codemirror_mode": {
    "name": "ipython",
    "version": 3
   },
   "file_extension": ".py",
   "mimetype": "text/x-python",
   "name": "python",
   "nbconvert_exporter": "python",
   "pygments_lexer": "ipython3",
   "version": "3.9.7"
  },
  "orig_nbformat": 4,
  "vscode": {
   "interpreter": {
    "hash": "258996d679d8e259ac990df9fdfc128ec5eb77c39bd98f0b9ba2b9004f62dd43"
   }
  }
 },
 "nbformat": 4,
 "nbformat_minor": 2
}
