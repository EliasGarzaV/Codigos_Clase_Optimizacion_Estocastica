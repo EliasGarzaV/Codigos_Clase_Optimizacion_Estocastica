{
 "cells": [
  {
   "cell_type": "code",
   "execution_count": 6,
   "metadata": {},
   "outputs": [
    {
     "name": "stdout",
     "output_type": "stream",
     "text": [
      "\t Problema 1: 0.01831563888873418\n",
      "\t Problema 2: 0.23810330555354436\n",
      "\t Problema 3: 0.19536681481316454\n",
      "\t Problema 4: 0.029770181304863145\n"
     ]
    }
   ],
   "source": [
    "import numpy as np\n",
    "from scipy import stats\n",
    "\n",
    "print(f'\\t Problema 1: {stats.poisson.pmf(k=0, mu=4)}')\n",
    "print(f'\\t Problema 2: {stats.poisson.cdf(k=2, mu=4)}')\n",
    "print(f'\\t Problema 3: {stats.poisson.pmf(k=4, mu=4)}')\n",
    "print(f'\\t Problema 4: {stats.poisson.pmf(k=8, mu=4)}')"
   ]
  },
  {
   "cell_type": "code",
   "execution_count": 11,
   "metadata": {},
   "outputs": [
    {
     "name": "stdout",
     "output_type": "stream",
     "text": [
      "\t Problema 1: 0.004524187090179801\n",
      "\t Problema 2: 0.36787944117144233\n",
      "\t Problema 3: 0.1353352832366127\n",
      "\t Problema 4: 0.00015465307026463204\n"
     ]
    }
   ],
   "source": [
    "import numpy as np\n",
    "from scipy import stats\n",
    "\n",
    "print(f'\\t Problema 1: {stats.poisson.pmf(k=2, mu=0.1)}')\n",
    "print(f'\\t Problema 2: {stats.poisson.pmf(k=1, mu = 0.1 * 10)}')\n",
    "print(f'\\t Problema 3: {stats.poisson.pmf(k=0, mu=0.1 * 20)}')\n",
    "print(f'\\t Problema 4: {1 - stats.poisson.cdf(k=2, mu=0.1)}')"
   ]
  },
  {
   "cell_type": "code",
   "execution_count": 20,
   "metadata": {},
   "outputs": [
    {
     "data": {
      "text/plain": [
       "25375.0"
      ]
     },
     "execution_count": 20,
     "metadata": {},
     "output_type": "execute_result"
    }
   ],
   "source": [
    "probs = np.array([0.3, 0.45, 0.25])\n",
    "\n",
    "gains = np.array([60, 15, 2.5])*1000\n",
    "\n",
    "np.dot(probs, gains)"
   ]
  },
  {
   "cell_type": "code",
   "execution_count": 21,
   "metadata": {},
   "outputs": [
    {
     "data": {
      "text/plain": [
       "25833.333333333332"
      ]
     },
     "execution_count": 21,
     "metadata": {},
     "output_type": "execute_result"
    }
   ],
   "source": [
    "np.average(gains)"
   ]
  }
 ],
 "metadata": {
  "kernelspec": {
   "display_name": "Python 3.10.4 ('Rutas')",
   "language": "python",
   "name": "python3"
  },
  "language_info": {
   "codemirror_mode": {
    "name": "ipython",
    "version": 3
   },
   "file_extension": ".py",
   "mimetype": "text/x-python",
   "name": "python",
   "nbconvert_exporter": "python",
   "pygments_lexer": "ipython3",
   "version": "3.10.4"
  },
  "orig_nbformat": 4,
  "vscode": {
   "interpreter": {
    "hash": "67b7d09460269d597aa1407e8b34f66237f4ed068e2eadd2db3410db2db3c875"
   }
  }
 },
 "nbformat": 4,
 "nbformat_minor": 2
}
